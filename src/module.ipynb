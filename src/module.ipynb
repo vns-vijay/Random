{
 "cells": [
  {
   "cell_type": "code",
   "execution_count": 1,
   "metadata": {},
   "outputs": [],
   "source": [
    "import requests\n",
    "from bs4 import BeautifulSoup\n",
    "\n",
    "def func():\n",
    "    return \"Hey Baby\"\n",
    "\n",
    "def get_nifty_data():\n",
    "    '''\n",
    "    \n",
    "    '''\n",
    "    html = requests.get(\"https://www.nseindia.com/market-data/live-equity-market\") # this line takes a lot of time, not giving the outpu\n",
    "    print(\"=========\")\n",
    "    soup = BeautifulSoup(html, \"lxml\")\n",
    "    print(soup)\n",
    "    x = soup.find_all(\"div\", class_ = \"val ltp\")\n",
    "\n",
    "    return x\n",
    "\n",
    "    #marketStatNIFTY 50\n",
    "\n",
    "if __name__=='__main__':\n",
    "    print(get_nifty_data())\n"
   ]
  },
  {
   "cell_type": "code",
   "execution_count": null,
   "metadata": {},
   "outputs": [],
   "source": []
  }
 ],
 "metadata": {
  "kernelspec": {
   "display_name": "venv",
   "language": "python",
   "name": "python3"
  },
  "language_info": {
   "codemirror_mode": {
    "name": "ipython",
    "version": 3
   },
   "file_extension": ".py",
   "mimetype": "text/x-python",
   "name": "python",
   "nbconvert_exporter": "python",
   "pygments_lexer": "ipython3",
   "version": "3.11.5"
  },
  "orig_nbformat": 4
 },
 "nbformat": 4,
 "nbformat_minor": 2
}
